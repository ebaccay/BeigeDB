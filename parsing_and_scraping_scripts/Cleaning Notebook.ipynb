{
 "cells": [
  {
   "cell_type": "code",
   "execution_count": 130,
   "metadata": {},
   "outputs": [
    {
     "data": {
      "text/plain": [
       "1544"
      ]
     },
     "execution_count": 130,
     "metadata": {},
     "output_type": "execute_result"
    }
   ],
   "source": [
    "len(pd.read_csv('./cleaned_bbd.csv'))"
   ]
  },
  {
   "cell_type": "code",
   "execution_count": null,
   "metadata": {},
   "outputs": [],
   "source": []
  },
  {
   "cell_type": "code",
   "execution_count": null,
   "metadata": {},
   "outputs": [],
   "source": []
  },
  {
   "cell_type": "code",
   "execution_count": null,
   "metadata": {},
   "outputs": [],
   "source": []
  },
  {
   "cell_type": "code",
   "execution_count": 18,
   "metadata": {},
   "outputs": [
    {
     "name": "stdout",
     "output_type": "stream",
     "text": [
      "Collecting datascience\n",
      "Collecting coverage==3.7.1 (from datascience)\n",
      "Requirement already satisfied: sphinx in c:\\users\\keiko\\anaconda3\\lib\\site-packages (from datascience) (1.7.4)\n",
      "Collecting folium==0.2.1 (from datascience)\n",
      "Requirement already satisfied: pytest in c:\\users\\keiko\\anaconda3\\lib\\site-packages (from datascience) (3.5.1)\n",
      "Collecting coveralls==0.5 (from datascience)\n",
      "Requirement already satisfied: setuptools in c:\\users\\keiko\\anaconda3\\lib\\site-packages (from datascience) (39.1.0)\n",
      "Requirement already satisfied: six>=1.5 in c:\\users\\keiko\\anaconda3\\lib\\site-packages (from sphinx->datascience) (1.11.0)\n",
      "Requirement already satisfied: Jinja2>=2.3 in c:\\users\\keiko\\anaconda3\\lib\\site-packages (from sphinx->datascience) (2.10)\n",
      "Requirement already satisfied: Pygments>=2.0 in c:\\users\\keiko\\anaconda3\\lib\\site-packages (from sphinx->datascience) (2.2.0)\n",
      "Requirement already satisfied: docutils>=0.11 in c:\\users\\keiko\\anaconda3\\lib\\site-packages (from sphinx->datascience) (0.14)\n",
      "Requirement already satisfied: snowballstemmer>=1.1 in c:\\users\\keiko\\anaconda3\\lib\\site-packages (from sphinx->datascience) (1.2.1)\n",
      "Requirement already satisfied: babel!=2.0,>=1.3 in c:\\users\\keiko\\anaconda3\\lib\\site-packages (from sphinx->datascience) (2.5.3)\n",
      "Requirement already satisfied: alabaster<0.8,>=0.7 in c:\\users\\keiko\\anaconda3\\lib\\site-packages (from sphinx->datascience) (0.7.10)\n",
      "Requirement already satisfied: imagesize in c:\\users\\keiko\\anaconda3\\lib\\site-packages (from sphinx->datascience) (1.0.0)\n",
      "Requirement already satisfied: requests>=2.0.0 in c:\\users\\keiko\\anaconda3\\lib\\site-packages (from sphinx->datascience) (2.18.4)\n",
      "Requirement already satisfied: packaging in c:\\users\\keiko\\anaconda3\\lib\\site-packages (from sphinx->datascience) (17.1)\n",
      "Requirement already satisfied: sphinxcontrib-websupport in c:\\users\\keiko\\anaconda3\\lib\\site-packages (from sphinx->datascience) (1.0.1)\n",
      "Requirement already satisfied: colorama>=0.3.5 in c:\\users\\keiko\\anaconda3\\lib\\site-packages (from sphinx->datascience) (0.3.9)\n",
      "Requirement already satisfied: py>=1.5.0 in c:\\users\\keiko\\anaconda3\\lib\\site-packages (from pytest->datascience) (1.5.3)\n",
      "Requirement already satisfied: attrs>=17.4.0 in c:\\users\\keiko\\anaconda3\\lib\\site-packages (from pytest->datascience) (18.1.0)\n",
      "Requirement already satisfied: more-itertools>=4.0.0 in c:\\users\\keiko\\anaconda3\\lib\\site-packages (from pytest->datascience) (4.1.0)\n",
      "Requirement already satisfied: pluggy<0.7,>=0.5 in c:\\users\\keiko\\anaconda3\\lib\\site-packages (from pytest->datascience) (0.6.0)\n",
      "Requirement already satisfied: PyYAML>=3.10 in c:\\users\\keiko\\anaconda3\\lib\\site-packages (from coveralls==0.5->datascience) (3.12)\n",
      "Collecting docopt>=0.6.1 (from coveralls==0.5->datascience)\n",
      "Requirement already satisfied: MarkupSafe>=0.23 in c:\\users\\keiko\\anaconda3\\lib\\site-packages (from Jinja2>=2.3->sphinx->datascience) (1.0)\n",
      "Requirement already satisfied: pytz>=0a in c:\\users\\keiko\\anaconda3\\lib\\site-packages (from babel!=2.0,>=1.3->sphinx->datascience) (2018.4)\n",
      "Requirement already satisfied: chardet<3.1.0,>=3.0.2 in c:\\users\\keiko\\anaconda3\\lib\\site-packages (from requests>=2.0.0->sphinx->datascience) (3.0.4)\n",
      "Requirement already satisfied: idna<2.7,>=2.5 in c:\\users\\keiko\\anaconda3\\lib\\site-packages (from requests>=2.0.0->sphinx->datascience) (2.6)\n",
      "Requirement already satisfied: urllib3<1.23,>=1.21.1 in c:\\users\\keiko\\anaconda3\\lib\\site-packages (from requests>=2.0.0->sphinx->datascience) (1.22)\n",
      "Requirement already satisfied: certifi>=2017.4.17 in c:\\users\\keiko\\anaconda3\\lib\\site-packages (from requests>=2.0.0->sphinx->datascience) (2018.4.16)\n",
      "Requirement already satisfied: pyparsing>=2.0.2 in c:\\users\\keiko\\anaconda3\\lib\\site-packages (from packaging->sphinx->datascience) (2.2.0)\n",
      "Installing collected packages: coverage, folium, docopt, coveralls, datascience\n",
      "  Found existing installation: folium 0.6.0\n",
      "    Uninstalling folium-0.6.0:\n",
      "      Successfully uninstalled folium-0.6.0\n",
      "Successfully installed coverage-3.7.1 coveralls-0.5 datascience-0.10.6 docopt-0.6.2 folium-0.2.1\n"
     ]
    },
    {
     "name": "stderr",
     "output_type": "stream",
     "text": [
      "distributed 1.21.8 requires msgpack, which is not installed.\n",
      "You are using pip version 10.0.1, however version 18.1 is available.\n",
      "You should consider upgrading via the 'python -m pip install --upgrade pip' command.\n"
     ]
    }
   ],
   "source": [
    "# Code Borrowed from UC Berkeley's Data 8 lab/homework modules for simplicity\n",
    "# http://data8.org/\n",
    "import numpy as np\n",
    "!pip install datascience\n",
    "from datascience import *\n",
    "\n",
    "import matplotlib\n",
    "%matplotlib inline\n",
    "import matplotlib.pyplot as plt\n",
    "plt.style.use('fivethirtyeight')\n",
    "import warnings\n",
    "warnings.simplefilter('ignore', FutureWarning)\n",
    "from matplotlib import patches"
   ]
  },
  {
   "cell_type": "code",
   "execution_count": 19,
   "metadata": {},
   "outputs": [
    {
     "name": "stdout",
     "output_type": "stream",
     "text": [
      "Pre-cleaning length: 1546\n"
     ]
    },
    {
     "data": {
      "text/html": [
       "<table border=\"1\" class=\"dataframe\">\n",
       "    <thead>\n",
       "        <tr>\n",
       "            <th>ID</th> <th>Date</th> <th>District</th> <th>Sector Heading</th> <th>Sector Text</th>\n",
       "        </tr>\n",
       "    </thead>\n",
       "    <tbody>\n",
       "        <tr>\n",
       "            <td>15822</td> <td>1-18-2017</td> <td>Atlanta </td> <td>Summary of Economic Activity </td> <td>Sixth District business contacts indicated that economic ...</td>\n",
       "        </tr>\n",
       "        <tr>\n",
       "            <td>15823</td> <td>1-18-2017</td> <td>Atlanta </td> <td>Employment and Wages         </td> <td>Contacts reported continued tightening in the labor mark ...</td>\n",
       "        </tr>\n",
       "        <tr>\n",
       "            <td>15824</td> <td>1-18-2017</td> <td>Atlanta </td> <td>Prices                       </td> <td>Contacts reported little change in input costs and price ...</td>\n",
       "        </tr>\n",
       "        <tr>\n",
       "            <td>15825</td> <td>1-18-2017</td> <td>Atlanta </td> <td>Consumer Spending and Tourism</td> <td>Most District retail contacts reported that sales levels ...</td>\n",
       "        </tr>\n",
       "        <tr>\n",
       "            <td>15826</td> <td>1-18-2017</td> <td>Atlanta </td> <td>Construction and Real Estate </td> <td>Overall, reports from District residential real estate c ...</td>\n",
       "        </tr>\n",
       "        <tr>\n",
       "            <td>15827</td> <td>1-18-2017</td> <td>Atlanta </td> <td>Manufacturing                </td> <td>Manufacturing contacts reported that overall business ac ...</td>\n",
       "        </tr>\n",
       "        <tr>\n",
       "            <td>15828</td> <td>1-18-2017</td> <td>Atlanta </td> <td>Transportation               </td> <td>District transportation contacts reported mixed levels o ...</td>\n",
       "        </tr>\n",
       "        <tr>\n",
       "            <td>15829</td> <td>1-18-2017</td> <td>Atlanta </td> <td>Banking and Finance          </td> <td>Credit remained readily available for most qualified bor ...</td>\n",
       "        </tr>\n",
       "        <tr>\n",
       "            <td>15830</td> <td>1-18-2017</td> <td>Atlanta </td> <td>Energy                       </td> <td>Contacts continued to report weak demand and an over-sup ...</td>\n",
       "        </tr>\n",
       "        <tr>\n",
       "            <td>15831</td> <td>1-18-2017</td> <td>Atlanta </td> <td>Agriculture                  </td> <td>Agriculture conditions across the District were mixed. B ...</td>\n",
       "        </tr>\n",
       "    </tbody>\n",
       "</table>\n",
       "<p>... (1536 rows omitted)</p>"
      ],
      "text/plain": [
       "ID    | Date      | District | Sector Heading                | Sector Text\n",
       "15822 | 1-18-2017 | Atlanta  | Summary of Economic Activity  | Sixth District business contacts indicated that economic ...\n",
       "15823 | 1-18-2017 | Atlanta  | Employment and Wages          | Contacts reported continued tightening in the labor mark ...\n",
       "15824 | 1-18-2017 | Atlanta  | Prices                        | Contacts reported little change in input costs and price ...\n",
       "15825 | 1-18-2017 | Atlanta  | Consumer Spending and Tourism | Most District retail contacts reported that sales levels ...\n",
       "15826 | 1-18-2017 | Atlanta  | Construction and Real Estate  | Overall, reports from District residential real estate c ...\n",
       "15827 | 1-18-2017 | Atlanta  | Manufacturing                 | Manufacturing contacts reported that overall business ac ...\n",
       "15828 | 1-18-2017 | Atlanta  | Transportation                | District transportation contacts reported mixed levels o ...\n",
       "15829 | 1-18-2017 | Atlanta  | Banking and Finance           | Credit remained readily available for most qualified bor ...\n",
       "15830 | 1-18-2017 | Atlanta  | Energy                        | Contacts continued to report weak demand and an over-sup ...\n",
       "15831 | 1-18-2017 | Atlanta  | Agriculture                   | Agriculture conditions across the District were mixed. B ...\n",
       "... (1536 rows omitted)"
      ]
     },
     "execution_count": 19,
     "metadata": {},
     "output_type": "execute_result"
    }
   ],
   "source": [
    "beige_books = Table.read_table('beige_books.csv')\n",
    "print(\"Pre-cleaning length: \" + str(beige_books.num_rows))\n",
    "beige_books"
   ]
  },
  {
   "cell_type": "code",
   "execution_count": 20,
   "metadata": {},
   "outputs": [
    {
     "ename": "AttributeError",
     "evalue": "'numpy.int32' object has no attribute 'isdigit'",
     "output_type": "error",
     "traceback": [
      "\u001b[1;31m---------------------------------------------------------------------------\u001b[0m",
      "\u001b[1;31mAttributeError\u001b[0m                            Traceback (most recent call last)",
      "\u001b[1;32m<ipython-input-20-1535bf9dcb59>\u001b[0m in \u001b[0;36m<module>\u001b[1;34m()\u001b[0m\n\u001b[1;32m----> 1\u001b[1;33m \u001b[0mbeige_books\u001b[0m \u001b[1;33m=\u001b[0m \u001b[0mbeige_books\u001b[0m\u001b[1;33m.\u001b[0m\u001b[0mwhere\u001b[0m\u001b[1;33m(\u001b[0m\u001b[1;34m'ID'\u001b[0m\u001b[1;33m,\u001b[0m \u001b[1;32mlambda\u001b[0m \u001b[0ms\u001b[0m\u001b[1;33m:\u001b[0m \u001b[0ms\u001b[0m\u001b[1;33m.\u001b[0m\u001b[0misdigit\u001b[0m\u001b[1;33m(\u001b[0m\u001b[1;33m)\u001b[0m\u001b[1;33m)\u001b[0m\u001b[1;33m\u001b[0m\u001b[0m\n\u001b[0m\u001b[0;32m      2\u001b[0m \u001b[0mbeige_books\u001b[0m\u001b[1;33m.\u001b[0m\u001b[0mshow\u001b[0m\u001b[1;33m(\u001b[0m\u001b[1;36m3\u001b[0m\u001b[1;33m)\u001b[0m\u001b[1;33m\u001b[0m\u001b[0m\n",
      "\u001b[1;32m~\\Anaconda3\\lib\\site-packages\\datascience\\tables.py\u001b[0m in \u001b[0;36mwhere\u001b[1;34m(self, column_or_label, value_or_predicate, other)\u001b[0m\n\u001b[0;32m    792\u001b[0m             \u001b[1;32melse\u001b[0m\u001b[1;33m:\u001b[0m\u001b[1;33m\u001b[0m\u001b[0m\n\u001b[0;32m    793\u001b[0m                 \u001b[0mpredicate\u001b[0m \u001b[1;33m=\u001b[0m \u001b[0mvalue_or_predicate\u001b[0m\u001b[1;33m\u001b[0m\u001b[0m\n\u001b[1;32m--> 794\u001b[1;33m             \u001b[0mcolumn\u001b[0m \u001b[1;33m=\u001b[0m \u001b[1;33m[\u001b[0m\u001b[0mpredicate\u001b[0m\u001b[1;33m(\u001b[0m\u001b[0mx\u001b[0m\u001b[1;33m)\u001b[0m \u001b[1;32mfor\u001b[0m \u001b[0mx\u001b[0m \u001b[1;32min\u001b[0m \u001b[0mcolumn\u001b[0m\u001b[1;33m]\u001b[0m\u001b[1;33m\u001b[0m\u001b[0m\n\u001b[0m\u001b[0;32m    795\u001b[0m         \u001b[1;32mreturn\u001b[0m \u001b[0mself\u001b[0m\u001b[1;33m.\u001b[0m\u001b[0mtake\u001b[0m\u001b[1;33m(\u001b[0m\u001b[0mnp\u001b[0m\u001b[1;33m.\u001b[0m\u001b[0mnonzero\u001b[0m\u001b[1;33m(\u001b[0m\u001b[0mcolumn\u001b[0m\u001b[1;33m)\u001b[0m\u001b[1;33m[\u001b[0m\u001b[1;36m0\u001b[0m\u001b[1;33m]\u001b[0m\u001b[1;33m)\u001b[0m\u001b[1;33m\u001b[0m\u001b[0m\n\u001b[0;32m    796\u001b[0m \u001b[1;33m\u001b[0m\u001b[0m\n",
      "\u001b[1;32m~\\Anaconda3\\lib\\site-packages\\datascience\\tables.py\u001b[0m in \u001b[0;36m<listcomp>\u001b[1;34m(.0)\u001b[0m\n\u001b[0;32m    792\u001b[0m             \u001b[1;32melse\u001b[0m\u001b[1;33m:\u001b[0m\u001b[1;33m\u001b[0m\u001b[0m\n\u001b[0;32m    793\u001b[0m                 \u001b[0mpredicate\u001b[0m \u001b[1;33m=\u001b[0m \u001b[0mvalue_or_predicate\u001b[0m\u001b[1;33m\u001b[0m\u001b[0m\n\u001b[1;32m--> 794\u001b[1;33m             \u001b[0mcolumn\u001b[0m \u001b[1;33m=\u001b[0m \u001b[1;33m[\u001b[0m\u001b[0mpredicate\u001b[0m\u001b[1;33m(\u001b[0m\u001b[0mx\u001b[0m\u001b[1;33m)\u001b[0m \u001b[1;32mfor\u001b[0m \u001b[0mx\u001b[0m \u001b[1;32min\u001b[0m \u001b[0mcolumn\u001b[0m\u001b[1;33m]\u001b[0m\u001b[1;33m\u001b[0m\u001b[0m\n\u001b[0m\u001b[0;32m    795\u001b[0m         \u001b[1;32mreturn\u001b[0m \u001b[0mself\u001b[0m\u001b[1;33m.\u001b[0m\u001b[0mtake\u001b[0m\u001b[1;33m(\u001b[0m\u001b[0mnp\u001b[0m\u001b[1;33m.\u001b[0m\u001b[0mnonzero\u001b[0m\u001b[1;33m(\u001b[0m\u001b[0mcolumn\u001b[0m\u001b[1;33m)\u001b[0m\u001b[1;33m[\u001b[0m\u001b[1;36m0\u001b[0m\u001b[1;33m]\u001b[0m\u001b[1;33m)\u001b[0m\u001b[1;33m\u001b[0m\u001b[0m\n\u001b[0;32m    796\u001b[0m \u001b[1;33m\u001b[0m\u001b[0m\n",
      "\u001b[1;32m<ipython-input-20-1535bf9dcb59>\u001b[0m in \u001b[0;36m<lambda>\u001b[1;34m(s)\u001b[0m\n\u001b[1;32m----> 1\u001b[1;33m \u001b[0mbeige_books\u001b[0m \u001b[1;33m=\u001b[0m \u001b[0mbeige_books\u001b[0m\u001b[1;33m.\u001b[0m\u001b[0mwhere\u001b[0m\u001b[1;33m(\u001b[0m\u001b[1;34m'ID'\u001b[0m\u001b[1;33m,\u001b[0m \u001b[1;32mlambda\u001b[0m \u001b[0ms\u001b[0m\u001b[1;33m:\u001b[0m \u001b[0ms\u001b[0m\u001b[1;33m.\u001b[0m\u001b[0misdigit\u001b[0m\u001b[1;33m(\u001b[0m\u001b[1;33m)\u001b[0m\u001b[1;33m)\u001b[0m\u001b[1;33m\u001b[0m\u001b[0m\n\u001b[0m\u001b[0;32m      2\u001b[0m \u001b[0mbeige_books\u001b[0m\u001b[1;33m.\u001b[0m\u001b[0mshow\u001b[0m\u001b[1;33m(\u001b[0m\u001b[1;36m3\u001b[0m\u001b[1;33m)\u001b[0m\u001b[1;33m\u001b[0m\u001b[0m\n",
      "\u001b[1;31mAttributeError\u001b[0m: 'numpy.int32' object has no attribute 'isdigit'"
     ]
    }
   ],
   "source": [
    "beige_books = beige_books.where('ID', lambda s: s.isdigit())\n",
    "beige_books.show(3)"
   ]
  },
  {
   "cell_type": "markdown",
   "metadata": {},
   "source": [
    "# cleaning empty sector texts"
   ]
  },
  {
   "cell_type": "code",
   "execution_count": 42,
   "metadata": {},
   "outputs": [
    {
     "data": {
      "text/plain": [
       "1544"
      ]
     },
     "execution_count": 42,
     "metadata": {},
     "output_type": "execute_result"
    }
   ],
   "source": [
    "beige.dropna(axis=0,subset=['Sector Text'])"
   ]
  },
  {
   "cell_type": "code",
   "execution_count": 41,
   "metadata": {
    "scrolled": true
   },
   "outputs": [
    {
     "data": {
      "text/plain": [
       "1546"
      ]
     },
     "execution_count": 41,
     "metadata": {},
     "output_type": "execute_result"
    }
   ],
   "source": [
    "len(beige)"
   ]
  },
  {
   "cell_type": "code",
   "execution_count": 43,
   "metadata": {},
   "outputs": [
    {
     "data": {
      "text/plain": [
       "524    7-12-2017\n",
       "856    1-17-2018\n",
       "Name: Date, dtype: object"
      ]
     },
     "execution_count": 43,
     "metadata": {},
     "output_type": "execute_result"
    }
   ],
   "source": [
    "beige = pd.read_csv('./beige_books.csv')\n",
    "beige[beige['Sector Text'].isna()]['Date']"
   ]
  },
  {
   "cell_type": "code",
   "execution_count": 23,
   "metadata": {},
   "outputs": [
    {
     "data": {
      "text/html": [
       "<table border=\"1\" class=\"dataframe\">\n",
       "    <thead>\n",
       "        <tr>\n",
       "            <th>ID</th> <th>Date</th> <th>District</th> <th>Sector Heading</th> <th>Sector Text</th>\n",
       "        </tr>\n",
       "    </thead>\n",
       "    <tbody>\n",
       "        <tr>\n",
       "            <td>16346</td> <td>7-12-2017</td> <td>St Louis</td> <td>.             </td> <td>nan        </td>\n",
       "        </tr>\n",
       "        <tr>\n",
       "            <td>16678</td> <td>1-17-2018</td> <td>Boston  </td> <td>.             </td> <td>nan        </td>\n",
       "        </tr>\n",
       "    </tbody>\n",
       "</table>"
      ],
      "text/plain": [
       "<IPython.core.display.HTML object>"
      ]
     },
     "metadata": {},
     "output_type": "display_data"
    }
   ],
   "source": [
    "empty_rows = beige_books.where(\"Sector Text\", \"nan\")\n",
    "empty_rows.show(3)\n",
    "# empty_row_ids = empty_rows.apply(lambda i: int(i), \"ID\")\n",
    "# empty_row_ids"
   ]
  },
  {
   "cell_type": "code",
   "execution_count": 22,
   "metadata": {},
   "outputs": [
    {
     "ename": "ValueError",
     "evalue": "list.remove(x): x not in list",
     "output_type": "error",
     "traceback": [
      "\u001b[1;31m---------------------------------------------------------------------------\u001b[0m",
      "\u001b[1;31mValueError\u001b[0m                                Traceback (most recent call last)",
      "\u001b[1;32m<ipython-input-22-46147aa6f662>\u001b[0m in \u001b[0;36m<module>\u001b[1;34m()\u001b[0m\n\u001b[0;32m     13\u001b[0m \u001b[1;33m\u001b[0m\u001b[0m\n\u001b[0;32m     14\u001b[0m \u001b[1;32mfor\u001b[0m \u001b[0mids\u001b[0m \u001b[1;32min\u001b[0m \u001b[0mids_not_of_interest\u001b[0m\u001b[1;33m:\u001b[0m\u001b[1;33m\u001b[0m\u001b[0m\n\u001b[1;32m---> 15\u001b[1;33m     \u001b[0mids_of_interest\u001b[0m\u001b[1;33m.\u001b[0m\u001b[0mremove\u001b[0m\u001b[1;33m(\u001b[0m\u001b[0mids\u001b[0m\u001b[1;33m)\u001b[0m\u001b[1;33m\u001b[0m\u001b[0m\n\u001b[0m\u001b[0;32m     16\u001b[0m \u001b[1;33m\u001b[0m\u001b[0m\n\u001b[0;32m     17\u001b[0m \u001b[0mids_of_interest\u001b[0m \u001b[1;33m=\u001b[0m \u001b[0mnp\u001b[0m\u001b[1;33m.\u001b[0m\u001b[0marray\u001b[0m\u001b[1;33m(\u001b[0m\u001b[0msorted\u001b[0m\u001b[1;33m(\u001b[0m\u001b[0mlist\u001b[0m\u001b[1;33m(\u001b[0m\u001b[0mset\u001b[0m\u001b[1;33m(\u001b[0m\u001b[0mids_of_interest\u001b[0m\u001b[1;33m)\u001b[0m\u001b[1;33m)\u001b[0m\u001b[1;33m)\u001b[0m\u001b[1;33m)\u001b[0m\u001b[1;33m\u001b[0m\u001b[0m\n",
      "\u001b[1;31mValueError\u001b[0m: list.remove(x): x not in list"
     ]
    }
   ],
   "source": [
    "ids_of_interest = []\n",
    "empty_row_id = []\n",
    "for i in empty_row_ids:\n",
    "    empty_row_id.append(i)\n",
    "    if i not in ids_of_interest:\n",
    "        ids_of_interest.append(i - 1)\n",
    "        ids_of_interest.append(i)\n",
    "        ids_of_interest.append(i + 1)\n",
    "    \n",
    "ids_not_of_interest = [20, 21, 22, 29, 30, 31, 92, 93, 94, 121, 122, 123, 135, 136, 137]\n",
    "ids_not_of_interest.extend([216, 217, 218, 260, 586, 258, 259, 584, 585, 628, 629, 630])\n",
    "ids_not_of_interest.extend([])\n",
    "\n",
    "for ids in ids_not_of_interest:\n",
    "    ids_of_interest.remove(ids)\n",
    "    \n",
    "ids_of_interest = np.array(sorted(list(set(ids_of_interest))))"
   ]
  },
  {
   "cell_type": "code",
   "execution_count": null,
   "metadata": {},
   "outputs": [],
   "source": [
    "rows_of_interests = beige_books.where(\"ID\", lambda i: int(i) in ids_of_interest)\n",
    "rows_of_interests.show(300)"
   ]
  },
  {
   "cell_type": "code",
   "execution_count": null,
   "metadata": {},
   "outputs": [],
   "source": [
    "ids_to_drop = [21]\n",
    "h_h = [(30, 31)]\n",
    "h_sh = [(92, 93), (121, 122), (135, 136), (216, 217), (258, 259), (584, 585), (628, 629)]\n",
    "h_sh.extend([])"
   ]
  },
  {
   "cell_type": "code",
   "execution_count": null,
   "metadata": {},
   "outputs": [],
   "source": [
    "def merge_rows(id_1, id_2, table):\n",
    "    new_row = []\n",
    "    row_1 = table.where(\"ID\", id_1).row(0)\n",
    "    row_2 = table.where(\"ID\", id_2).row(0)\n",
    "    new_row.append(row_1[0], row_1[1], row_1[2], row_1[3])\n",
    "    new_row.append(row_1[0] + row_2[4])"
   ]
  },
  {
   "cell_type": "markdown",
   "metadata": {},
   "source": [
    "# Cleaning Strange Sector Headings"
   ]
  },
  {
   "cell_type": "code",
   "execution_count": 97,
   "metadata": {},
   "outputs": [
    {
     "data": {
      "text/plain": [
       "1546"
      ]
     },
     "execution_count": 97,
     "metadata": {},
     "output_type": "execute_result"
    }
   ],
   "source": [
    "len(beige)"
   ]
  },
  {
   "cell_type": "code",
   "execution_count": null,
   "metadata": {},
   "outputs": [],
   "source": [
    "beige[beige['Sector Heading']]"
   ]
  },
  {
   "cell_type": "code",
   "execution_count": 88,
   "metadata": {},
   "outputs": [
    {
     "data": {
      "text/html": [
       "<div>\n",
       "<style scoped>\n",
       "    .dataframe tbody tr th:only-of-type {\n",
       "        vertical-align: middle;\n",
       "    }\n",
       "\n",
       "    .dataframe tbody tr th {\n",
       "        vertical-align: top;\n",
       "    }\n",
       "\n",
       "    .dataframe thead th {\n",
       "        text-align: right;\n",
       "    }\n",
       "</style>\n",
       "<table border=\"1\" class=\"dataframe\">\n",
       "  <thead>\n",
       "    <tr style=\"text-align: right;\">\n",
       "      <th></th>\n",
       "      <th>ID</th>\n",
       "      <th>Date</th>\n",
       "      <th>District</th>\n",
       "      <th>Sector Heading</th>\n",
       "      <th>Sector Text</th>\n",
       "    </tr>\n",
       "  </thead>\n",
       "  <tbody>\n",
       "  </tbody>\n",
       "</table>\n",
       "</div>"
      ],
      "text/plain": [
       "Empty DataFrame\n",
       "Columns: [ID, Date, District, Sector Heading, Sector Text]\n",
       "Index: []"
      ]
     },
     "execution_count": 88,
     "metadata": {},
     "output_type": "execute_result"
    }
   ],
   "source": [
    "beige[beige.apply(lambda s: len(s) < 5 and s != \"Coal\" and s != \"Fuel\", axis=1)]"
   ]
  },
  {
   "cell_type": "code",
   "execution_count": 107,
   "metadata": {},
   "outputs": [],
   "source": [
    "test_ids = beige.iloc[0:5,:]['ID']"
   ]
  },
  {
   "cell_type": "code",
   "execution_count": 106,
   "metadata": {},
   "outputs": [
    {
     "data": {
      "text/plain": [
       "1541"
      ]
     },
     "execution_count": 106,
     "metadata": {},
     "output_type": "execute_result"
    }
   ],
   "source": [
    "len(beige[~beige['ID'].isin(test_ids)])"
   ]
  },
  {
   "cell_type": "code",
   "execution_count": 99,
   "metadata": {},
   "outputs": [
    {
     "data": {
      "text/plain": [
       "1546"
      ]
     },
     "execution_count": 99,
     "metadata": {},
     "output_type": "execute_result"
    }
   ],
   "source": [
    "len(beige[beige.apply(lambda s: len(s) >= 5, axis=1)])"
   ]
  },
  {
   "cell_type": "code",
   "execution_count": null,
   "metadata": {},
   "outputs": [],
   "source": [
    "strange_headings = beige_books.where(\"Sector Heading\", lambda s: len(s) < 5 and s != \"Coal\" and s != \"Fuel\")\n",
    "strange_headings.show(3)\n",
    "strange_heading_ids = strange_headings.apply(lambda i: int(i), \"ID\")\n",
    "strange_heading_ids"
   ]
  },
  {
   "cell_type": "code",
   "execution_count": null,
   "metadata": {},
   "outputs": [],
   "source": [
    "strange_headings.show(300)\n",
    "strange_heading_id = []\n",
    "for i in strange_heading_ids:\n",
    "    strange_heading_id.append(i)"
   ]
  },
  {
   "cell_type": "code",
   "execution_count": null,
   "metadata": {},
   "outputs": [],
   "source": [
    "id_removal = strange_heading_ids[:50]\n",
    "id_removal"
   ]
  },
  {
   "cell_type": "code",
   "execution_count": null,
   "metadata": {},
   "outputs": [],
   "source": [
    "no_strange_headings_beige_books = False"
   ]
  },
  {
   "cell_type": "markdown",
   "metadata": {},
   "source": [
    "# Cleaning Strange Dates\n",
    "\n",
    "Ideas:\n",
    "- use regex\n",
    "- use datetime"
   ]
  },
  {
   "cell_type": "code",
   "execution_count": 46,
   "metadata": {},
   "outputs": [
    {
     "data": {
      "text/plain": [
       "int"
      ]
     },
     "execution_count": 46,
     "metadata": {},
     "output_type": "execute_result"
    }
   ],
   "source": [
    "x = 3\n",
    "type(x)"
   ]
  },
  {
   "cell_type": "code",
   "execution_count": 117,
   "metadata": {},
   "outputs": [],
   "source": [
    "beige['Date'] = pd.to_datetime(beige['Date'], errors='coerce')"
   ]
  },
  {
   "cell_type": "code",
   "execution_count": 120,
   "metadata": {},
   "outputs": [
    {
     "data": {
      "text/plain": [
       "pandas._libs.tslibs.timestamps.Timestamp"
      ]
     },
     "execution_count": 120,
     "metadata": {},
     "output_type": "execute_result"
    }
   ],
   "source": [
    "type(beige['Date'].iloc[0])"
   ]
  },
  {
   "cell_type": "code",
   "execution_count": 126,
   "metadata": {},
   "outputs": [
    {
     "data": {
      "text/html": [
       "<div>\n",
       "<style scoped>\n",
       "    .dataframe tbody tr th:only-of-type {\n",
       "        vertical-align: middle;\n",
       "    }\n",
       "\n",
       "    .dataframe tbody tr th {\n",
       "        vertical-align: top;\n",
       "    }\n",
       "\n",
       "    .dataframe thead th {\n",
       "        text-align: right;\n",
       "    }\n",
       "</style>\n",
       "<table border=\"1\" class=\"dataframe\">\n",
       "  <thead>\n",
       "    <tr style=\"text-align: right;\">\n",
       "      <th></th>\n",
       "      <th>0</th>\n",
       "    </tr>\n",
       "  </thead>\n",
       "  <tbody>\n",
       "    <tr>\n",
       "      <th>0</th>\n",
       "      <td>NaT</td>\n",
       "    </tr>\n",
       "    <tr>\n",
       "      <th>1</th>\n",
       "      <td>1999-12-12</td>\n",
       "    </tr>\n",
       "    <tr>\n",
       "      <th>2</th>\n",
       "      <td>NaT</td>\n",
       "    </tr>\n",
       "  </tbody>\n",
       "</table>\n",
       "</div>"
      ],
      "text/plain": [
       "           0\n",
       "0        NaT\n",
       "1 1999-12-12\n",
       "2        NaT"
      ]
     },
     "execution_count": 126,
     "metadata": {},
     "output_type": "execute_result"
    }
   ],
   "source": [
    "testing"
   ]
  },
  {
   "cell_type": "code",
   "execution_count": 127,
   "metadata": {},
   "outputs": [
    {
     "data": {
      "text/html": [
       "<div>\n",
       "<style scoped>\n",
       "    .dataframe tbody tr th:only-of-type {\n",
       "        vertical-align: middle;\n",
       "    }\n",
       "\n",
       "    .dataframe tbody tr th {\n",
       "        vertical-align: top;\n",
       "    }\n",
       "\n",
       "    .dataframe thead th {\n",
       "        text-align: right;\n",
       "    }\n",
       "</style>\n",
       "<table border=\"1\" class=\"dataframe\">\n",
       "  <thead>\n",
       "    <tr style=\"text-align: right;\">\n",
       "      <th></th>\n",
       "      <th>0</th>\n",
       "    </tr>\n",
       "  </thead>\n",
       "  <tbody>\n",
       "    <tr>\n",
       "      <th>0</th>\n",
       "      <td>NaT</td>\n",
       "    </tr>\n",
       "    <tr>\n",
       "      <th>2</th>\n",
       "      <td>NaT</td>\n",
       "    </tr>\n",
       "  </tbody>\n",
       "</table>\n",
       "</div>"
      ],
      "text/plain": [
       "    0\n",
       "0 NaT\n",
       "2 NaT"
      ]
     },
     "execution_count": 127,
     "metadata": {},
     "output_type": "execute_result"
    }
   ],
   "source": [
    "testing = pd.to_datetime(pd.Series(['12-12-199d9', '12-12-1999','12-12-199d9']), errors = 'coerce').to_frame()\n",
    "testing[testing.iloc[:,0].isna()]"
   ]
  },
  {
   "cell_type": "code",
   "execution_count": 113,
   "metadata": {},
   "outputs": [
    {
     "data": {
      "text/plain": [
       "pandas._libs.tslibs.nattype.NaTType"
      ]
     },
     "execution_count": 113,
     "metadata": {},
     "output_type": "execute_result"
    }
   ],
   "source": [
    "pd.to_datetime('12-12-199d9', errors = 'coerce')"
   ]
  },
  {
   "cell_type": "code",
   "execution_count": 75,
   "metadata": {},
   "outputs": [
    {
     "data": {
      "text/plain": [
       "False"
      ]
     },
     "execution_count": 75,
     "metadata": {},
     "output_type": "execute_result"
    }
   ],
   "source": [
    "isNotDate('32-sd-2949')"
   ]
  },
  {
   "cell_type": "code",
   "execution_count": 72,
   "metadata": {},
   "outputs": [],
   "source": [
    "def isNotDate(s):\n",
    "    s = s.split(\"-\")\n",
    "    if len(s) != 3:\n",
    "        return True\n",
    "    if not s[0].isdigit():\n",
    "        return True\n",
    "    if not s[1].isdigit():\n",
    "        return False\n",
    "    if not s[2].isdigit():\n",
    "        return True\n",
    "    return False\n",
    "\n",
    "# strange_dates = beige_books.where(\"Date\", isNotDate)\n",
    "# strange_dates.show(300)\n",
    "\n",
    "# strange_date_id = []\n",
    "# for i in strange_dates:\n",
    "#     strange_date_id.append(i)"
   ]
  },
  {
   "cell_type": "markdown",
   "metadata": {},
   "source": [
    "# Final Table"
   ]
  },
  {
   "cell_type": "code",
   "execution_count": null,
   "metadata": {},
   "outputs": [],
   "source": [
    "bad_flags = empty_row_id + strange_date_id + strange_heading_id\n",
    "final = beige_books.where(\"ID\", lambda s: int(s) not in bad_flags)"
   ]
  },
  {
   "cell_type": "code",
   "execution_count": null,
   "metadata": {},
   "outputs": [],
   "source": [
    "print(\"Post-cleaning length: \" + str(final.num_rows))"
   ]
  },
  {
   "cell_type": "code",
   "execution_count": null,
   "metadata": {},
   "outputs": [],
   "source": [
    "len(list(set(bad_flags)))"
   ]
  },
  {
   "cell_type": "code",
   "execution_count": null,
   "metadata": {},
   "outputs": [],
   "source": [
    "final.to_csv(\"cleaned.csv\")"
   ]
  },
  {
   "cell_type": "code",
   "execution_count": null,
   "metadata": {},
   "outputs": [],
   "source": []
  }
 ],
 "metadata": {
  "kernelspec": {
   "display_name": "Python 3",
   "language": "python",
   "name": "python3"
  },
  "language_info": {
   "codemirror_mode": {
    "name": "ipython",
    "version": 3
   },
   "file_extension": ".py",
   "mimetype": "text/x-python",
   "name": "python",
   "nbconvert_exporter": "python",
   "pygments_lexer": "ipython3",
   "version": "3.6.5"
  }
 },
 "nbformat": 4,
 "nbformat_minor": 2
}
